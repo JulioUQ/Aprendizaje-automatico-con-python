{
 "cells": [
  {
   "cell_type": "code",
   "execution_count": null,
   "id": "f5af213c",
   "metadata": {},
   "outputs": [],
   "source": [
    "# Convertir código de jupyter notebook + los resultados a html, pdf y word\n",
    "\n",
    "# 1) Tienes que instalar \"Quarto\".\n",
    "# 2) Para pdf tienes que isntalar \"MinTeX\".\n",
    "# 3) Tu archivo Jupyter Notebook debe estar guardada.\n",
    "\n",
    "# Estos son los comandos:\n",
    "\n",
    "# quarto render C:/nombre_archivo_jupyternotebook.ipynb\n",
    "# quarto render C:/nombre_archivo_jupyternotebook.ipynb -- to pdf\n",
    "# quarto render C:/nombre_archivo_jupyternotebook.ipynb --to docx\n",
    "\n",
    "# quarto render C:\\Users\\usuario\\Documents\\GitHub\\Aprendizaje-automatico-con-python\\Bloque 1 - Introducción al aprendizaje automático\\PEC\\M2.891_20251_PEC1-UbedaQuesadaJulio.ipynb\n",
    "\n",
    "# NOTA:\n",
    "# Este comando debes escribirlo en la terminal.\n",
    "# Debes quitar el \"#\" al comando,\n",
    "# Debes escribir la ruta de tu archivo de código a convertir."
   ]
  }
 ],
 "metadata": {
  "language_info": {
   "name": "python"
  }
 },
 "nbformat": 4,
 "nbformat_minor": 5
}
